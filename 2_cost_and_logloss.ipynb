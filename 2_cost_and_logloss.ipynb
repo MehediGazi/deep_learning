{
 "cells": [
  {
   "cell_type": "code",
   "execution_count": 32,
   "id": "1840c658",
   "metadata": {},
   "outputs": [],
   "source": [
    "import numpy as np"
   ]
  },
  {
   "cell_type": "code",
   "execution_count": 33,
   "id": "08898066",
   "metadata": {},
   "outputs": [
    {
     "data": {
      "text/plain": [
       "array([0.5, 0.6, 0.2, 0.4])"
      ]
     },
     "execution_count": 33,
     "metadata": {},
     "output_type": "execute_result"
    }
   ],
   "source": [
    "predict = np.array([1, 0, 0, 1])\n",
    "true_val = np.array([.5,.6,.2,.4])\n",
    "true_val"
   ]
  },
  {
   "cell_type": "code",
   "execution_count": 34,
   "id": "e862a093",
   "metadata": {},
   "outputs": [
    {
     "data": {
      "text/plain": [
       "array([0.5, 0.6, 0.2, 0.6])"
      ]
     },
     "execution_count": 34,
     "metadata": {},
     "output_type": "execute_result"
    }
   ],
   "source": [
    "np.abs(predict - true_val)"
   ]
  },
  {
   "cell_type": "code",
   "execution_count": 35,
   "id": "f7c45d44",
   "metadata": {},
   "outputs": [
    {
     "data": {
      "text/plain": [
       "0.475"
      ]
     },
     "execution_count": 35,
     "metadata": {},
     "output_type": "execute_result"
    }
   ],
   "source": [
    "np.mean(np.abs(predict - true_val))"
   ]
  },
  {
   "cell_type": "code",
   "execution_count": 36,
   "id": "22720839",
   "metadata": {},
   "outputs": [
    {
     "data": {
      "text/plain": [
       "-4.999999999999999"
      ]
     },
     "execution_count": 36,
     "metadata": {},
     "output_type": "execute_result"
    }
   ],
   "source": [
    "x = 1e-15 - 5\n",
    "x"
   ]
  },
  {
   "cell_type": "code",
   "execution_count": 37,
   "id": "6882b82f",
   "metadata": {},
   "outputs": [
    {
     "data": {
      "text/plain": [
       "[1, 0.4, 0.4, 1]"
      ]
     },
     "execution_count": 37,
     "metadata": {},
     "output_type": "execute_result"
    }
   ],
   "source": [
    "x1 = [max(i, .4) for i in predict]\n",
    "x1"
   ]
  },
  {
   "cell_type": "code",
   "execution_count": 38,
   "id": "bd2c1cb9",
   "metadata": {},
   "outputs": [
    {
     "data": {
      "text/plain": [
       "[99, 100, 100, 99]"
      ]
     },
     "execution_count": 38,
     "metadata": {},
     "output_type": "execute_result"
    }
   ],
   "source": [
    "x2 = [np.abs(i-100) for i in predict]\n",
    "x2"
   ]
  },
  {
   "cell_type": "code",
   "execution_count": 39,
   "id": "e22ed80d",
   "metadata": {},
   "outputs": [],
   "source": [
    "epsilon = 1e-15"
   ]
  },
  {
   "cell_type": "code",
   "execution_count": 40,
   "id": "a19a80cd",
   "metadata": {},
   "outputs": [
    {
     "data": {
      "text/plain": [
       "[1, 1e-15, 1e-15, 1]"
      ]
     },
     "execution_count": 40,
     "metadata": {},
     "output_type": "execute_result"
    }
   ],
   "source": [
    "predict_new = [max(i,epsilon) for i in predict] #replacing 0 with the colsest number to 0 as log(0)=infinity\n",
    "predict_new"
   ]
  },
  {
   "cell_type": "code",
   "execution_count": 41,
   "id": "e5df36df",
   "metadata": {},
   "outputs": [
    {
     "data": {
      "text/plain": [
       "[0.999999999999999, 1e-15, 1e-15, 0.999999999999999]"
      ]
     },
     "execution_count": 41,
     "metadata": {},
     "output_type": "execute_result"
    }
   ],
   "source": [
    "predict_new = [min(i,1-epsilon) for i in predict_new] #replacing 1 with the colsest number to 1 as log(1)=0"
   ]
  },
  {
   "cell_type": "code",
   "execution_count": 45,
   "id": "cb8e7b4a",
   "metadata": {},
   "outputs": [
    {
     "data": {
      "text/plain": [
       "list"
      ]
     },
     "execution_count": 45,
     "metadata": {},
     "output_type": "execute_result"
    }
   ],
   "source": [
    "type(predict_new)"
   ]
  },
  {
   "cell_type": "code",
   "execution_count": 46,
   "id": "6a74cc40",
   "metadata": {},
   "outputs": [
    {
     "data": {
      "text/plain": [
       "numpy.ndarray"
      ]
     },
     "execution_count": 46,
     "metadata": {},
     "output_type": "execute_result"
    }
   ],
   "source": [
    "predict_new = np.array(predict_new)\n",
    "type(predict_new)"
   ]
  },
  {
   "cell_type": "code",
   "execution_count": 54,
   "id": "d8bf1b4e",
   "metadata": {},
   "outputs": [
    {
     "data": {
      "text/plain": [
       "16.406138676875877"
      ]
     },
     "execution_count": 54,
     "metadata": {},
     "output_type": "execute_result"
    }
   ],
   "source": [
    "log_loss = -np.mean(true_val*np.log(predict_new)+(1-true_val)*np.log(1-predict_new))\n",
    "log_loss"
   ]
  },
  {
   "cell_type": "code",
   "execution_count": 52,
   "id": "cbc0e452",
   "metadata": {},
   "outputs": [
    {
     "data": {
      "text/plain": [
       "16.406138676875877"
      ]
     },
     "execution_count": 52,
     "metadata": {},
     "output_type": "execute_result"
    }
   ],
   "source": [
    "-np.mean(true_val*np.log(predict_new)+(1-true_val)*np.log(1-predict_new))"
   ]
  },
  {
   "cell_type": "code",
   "execution_count": null,
   "id": "d92143a0",
   "metadata": {},
   "outputs": [],
   "source": []
  }
 ],
 "metadata": {
  "kernelspec": {
   "display_name": "Python 3 (ipykernel)",
   "language": "python",
   "name": "python3"
  },
  "language_info": {
   "codemirror_mode": {
    "name": "ipython",
    "version": 3
   },
   "file_extension": ".py",
   "mimetype": "text/x-python",
   "name": "python",
   "nbconvert_exporter": "python",
   "pygments_lexer": "ipython3",
   "version": "3.7.11"
  }
 },
 "nbformat": 4,
 "nbformat_minor": 5
}
